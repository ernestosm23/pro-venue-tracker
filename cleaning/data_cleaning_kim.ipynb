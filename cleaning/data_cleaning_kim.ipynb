{
 "cells": [
  {
   "cell_type": "code",
   "execution_count": 2,
   "id": "3ad34a3b",
   "metadata": {},
   "outputs": [],
   "source": [
    "import requests\n",
    "from api_key import geoapify_key"
   ]
  },
  {
   "cell_type": "code",
   "execution_count": 4,
   "id": "20b1a03a",
   "metadata": {},
   "outputs": [],
   "source": [
    "base_url = \"https://api.geoapify.com/v2/places\""
   ]
  },
  {
   "cell_type": "code",
   "execution_count": 12,
   "id": "8e29036e",
   "metadata": {},
   "outputs": [],
   "source": [
    "lon = -115.183611\n",
    "lat = 36.090833\n",
    "params = {\n",
    "    \"apiKey\": geoapify_key,\n",
    "    \"categories\": \"sport.stadium\",\n",
    "    \"bias\": f\"proximity:{lon},{lat}\"\n",
    "}\n",
    "response = requests.get(base_url, params=params).json()['features']\n"
   ]
  },
  {
   "cell_type": "code",
   "execution_count": 13,
   "id": "c19bf3f6",
   "metadata": {},
   "outputs": [
    {
     "name": "stdout",
     "output_type": "stream",
     "text": [
      "{'type': 'Feature', 'properties': {'name': 'Allegiant Stadium', 'country': 'United States', 'country_code': 'us', 'state': 'Nevada', 'county': 'Clark County', 'city': 'Las Vegas', 'postcode': '89118', 'street': 'Al Davis Way', 'housenumber': '3333', 'lon': -115.18343206671804, 'lat': 36.09083455, 'state_code': 'NV', 'formatted': 'Allegiant Stadium, 3333 Al Davis Way, Las Vegas, NV 89118, United States of America', 'address_line1': 'Allegiant Stadium', 'address_line2': '3333 Al Davis Way, Las Vegas, NV 89118, United States of America', 'categories': ['building', 'building.sport', 'sport', 'sport.stadium'], 'details': ['details', 'details.wiki_and_media'], 'datasource': {'sourcename': 'openstreetmap', 'attribution': '© OpenStreetMap contributors', 'license': 'Open Database Licence', 'url': 'https://www.openstreetmap.org/copyright', 'raw': {'name': 'Allegiant Stadium', 'sport': 'american_football;soccer', 'osm_id': 11535705, 'leisure': 'stadium', 'building': 'yes', 'capacity': '65,000', 'operator': 'AEG Facilities', 'osm_type': 'r', 'wikidata': 'Q27768421', 'addr:city': 'Las Vegas', 'wikipedia': 'en:Allegiant Stadium', 'addr:state': 'NV', 'addr:street': 'Al Davis Way', 'addr:postcode': 89118, 'addr:housenumber': 3333}}, 'place_id': '51faa79f4fbdcb5cc059ca7e29f09f0b4240f00101f9015905b00000000000920311416c6c656769616e74205374616469756d'}, 'geometry': {'type': 'Point', 'coordinates': [-115.18342962829038, 36.09081842447411]}}\n"
     ]
    }
   ],
   "source": [
    "print(response[0])"
   ]
  },
  {
   "cell_type": "code",
   "execution_count": null,
   "id": "66b39acd",
   "metadata": {},
   "outputs": [],
   "source": []
  }
 ],
 "metadata": {
  "kernelspec": {
   "display_name": "Python 3 (ipykernel)",
   "language": "python",
   "name": "python3"
  },
  "language_info": {
   "codemirror_mode": {
    "name": "ipython",
    "version": 3
   },
   "file_extension": ".py",
   "mimetype": "text/x-python",
   "name": "python",
   "nbconvert_exporter": "python",
   "pygments_lexer": "ipython3",
   "version": "3.9.13"
  }
 },
 "nbformat": 4,
 "nbformat_minor": 5
}
