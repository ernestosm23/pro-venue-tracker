{
 "cells": [
  {
   "cell_type": "code",
   "execution_count": 22,
   "id": "193e359f",
   "metadata": {},
   "outputs": [],
   "source": [
    "import requests"
   ]
  },
  {
   "cell_type": "code",
   "execution_count": 39,
   "id": "6975207f",
   "metadata": {},
   "outputs": [],
   "source": [
    "url = \"https://v1.baseball.api-sports.io/games\"\n",
    "\n",
    "payload={\n",
    "    \"league\":1,\n",
    "    \"season\":2023,\n",
    "    \"date\": \"2023-07-08\",\n",
    "    \"timezone\": \"America/New York\" #\"America/Chicago\"\n",
    "}\n",
    "headers = {\n",
    "  'x-apisports-key': 'edb5152ba256a1bcabf2dff1c71741e0'\n",
    "}\n",
    "\n",
    "response = requests.get(url, headers=headers, params=payload)\n"
   ]
  },
  {
   "cell_type": "code",
   "execution_count": 45,
   "id": "5eb3b68b",
   "metadata": {},
   "outputs": [],
   "source": [
    "sox_cards = response.json()['response'][0]"
   ]
  },
  {
   "cell_type": "code",
   "execution_count": 46,
   "id": "45491ee6",
   "metadata": {},
   "outputs": [
    {
     "data": {
      "text/plain": [
       "{'id': 137499,\n",
       " 'date': '2023-07-08T00:10:00+00:00',\n",
       " 'time': '00:10',\n",
       " 'timestamp': 1688775000,\n",
       " 'timezone': 'UTC',\n",
       " 'week': None,\n",
       " 'status': {'long': 'Not Started', 'short': 'NS'},\n",
       " 'country': {'id': 1,\n",
       "  'name': 'USA',\n",
       "  'code': 'US',\n",
       "  'flag': 'https://media-2.api-sports.io/flags/us.svg'},\n",
       " 'league': {'id': 1,\n",
       "  'name': 'MLB',\n",
       "  'type': 'League',\n",
       "  'logo': 'https://media-2.api-sports.io/baseball/leagues/1.png',\n",
       "  'season': 2023},\n",
       " 'teams': {'home': {'id': 7,\n",
       "   'name': 'Chicago White Sox',\n",
       "   'logo': 'https://media-3.api-sports.io/baseball/teams/7.png'},\n",
       "  'away': {'id': 33,\n",
       "   'name': 'St.Louis Cardinals',\n",
       "   'logo': 'https://media-2.api-sports.io/baseball/teams/33.png'}},\n",
       " 'scores': {'home': {'hits': None,\n",
       "   'errors': None,\n",
       "   'innings': {'1': None,\n",
       "    '2': None,\n",
       "    '3': None,\n",
       "    '4': None,\n",
       "    '5': None,\n",
       "    '6': None,\n",
       "    '7': None,\n",
       "    '8': None,\n",
       "    '9': None,\n",
       "    'extra': None},\n",
       "   'total': None},\n",
       "  'away': {'hits': None,\n",
       "   'errors': None,\n",
       "   'innings': {'1': None,\n",
       "    '2': None,\n",
       "    '3': None,\n",
       "    '4': None,\n",
       "    '5': None,\n",
       "    '6': None,\n",
       "    '7': None,\n",
       "    '8': None,\n",
       "    '9': None,\n",
       "    'extra': None},\n",
       "   'total': None}}}"
      ]
     },
     "execution_count": 46,
     "metadata": {},
     "output_type": "execute_result"
    }
   ],
   "source": [
    "sox_cards"
   ]
  },
  {
   "cell_type": "code",
   "execution_count": 53,
   "id": "f2247463",
   "metadata": {},
   "outputs": [
    {
     "data": {
      "text/plain": [
       "datetime.time(17, 10)"
      ]
     },
     "execution_count": 53,
     "metadata": {},
     "output_type": "execute_result"
    }
   ],
   "source": [
    "from datetime import datetime\n",
    "datetime.timetz(datetime.fromtimestamp(sox_cards['timestamp']))"
   ]
  }
 ],
 "metadata": {
  "kernelspec": {
   "display_name": "Python 3 (ipykernel)",
   "language": "python",
   "name": "python3"
  },
  "language_info": {
   "codemirror_mode": {
    "name": "ipython",
    "version": 3
   },
   "file_extension": ".py",
   "mimetype": "text/x-python",
   "name": "python",
   "nbconvert_exporter": "python",
   "pygments_lexer": "ipython3",
   "version": "3.9.13"
  }
 },
 "nbformat": 4,
 "nbformat_minor": 5
}
